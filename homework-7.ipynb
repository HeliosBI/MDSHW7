{
 "cells": [
  {
   "cell_type": "code",
   "execution_count": 50,
   "metadata": {},
   "outputs": [],
   "source": [
    "import matplotlib.pyplot as plt\n",
    "import numpy as np\n",
    "import random\n",
    "import seaborn as sns\n",
    "\n",
    "from numpy.random import choice\n",
    "from scipy.stats import *\n",
    "\n",
    "%matplotlib inline\n",
    "\n",
    "from scipy.stats import bernoulli"
   ]
  },
  {
   "cell_type": "markdown",
   "metadata": {},
   "source": [
    "### Задание 1"
   ]
  },
  {
   "cell_type": "markdown",
   "metadata": {},
   "source": [
    "Монетку подбрасывают 15 раз, найдите вероятность выпадения простого числа орлов (решение на бумажке и на python)."
   ]
  },
  {
   "cell_type": "code",
   "execution_count": 14,
   "metadata": {},
   "outputs": [
    {
     "name": "stdout",
     "output_type": "stream",
     "text": [
      "0.003204345703125\n"
     ]
    }
   ],
   "source": [
    "# https://www.geeksforgeeks.org/probability-of-getting-k-heads-in-n-coin-tosseabss/\n",
    "\n",
    "# Python3 program to find probability  \n",
    "# of getting K heads in N coin tosses \n",
    "  \n",
    "# Function to calculate factorial  \n",
    "def fact(n): \n",
    "      \n",
    "    res = 1\n",
    "    for i in range(2, n + 1):  \n",
    "        res = res * i \n",
    "    return res \n",
    "  \n",
    "# Applying the formula  \n",
    "def count_heads(n, r): \n",
    "      \n",
    "    output = fact(n) / (fact(r) * fact(n - r)) \n",
    "    output = output / (pow(2, n)) \n",
    "    return output \n",
    "  \n",
    "# Driver code \n",
    "n = 15\n",
    "r = 2\n",
    "  \n",
    "# Call count_heads with n and r \n",
    "print (count_heads(n, r)) \n",
    "  \n",
    "# This code is contributed by Pratik Basu"
   ]
  },
  {
   "cell_type": "code",
   "execution_count": 15,
   "metadata": {},
   "outputs": [],
   "source": [
    "probabilities_of_simple_heads = [count_heads(15, r) for r in [2,3,5,7,11,13]]"
   ]
  },
  {
   "cell_type": "code",
   "execution_count": 16,
   "metadata": {},
   "outputs": [],
   "source": [
    "def multiplyList(myList) : \n",
    "      \n",
    "    # Multiply elements one by one \n",
    "    result = 1\n",
    "    for x in myList: \n",
    "         result = result * x  \n",
    "    return result  "
   ]
  },
  {
   "cell_type": "code",
   "execution_count": 17,
   "metadata": {
    "scrolled": true
   },
   "outputs": [
    {
     "data": {
      "text/plain": [
       "1.0688750010154433e-10"
      ]
     },
     "execution_count": 17,
     "metadata": {},
     "output_type": "execute_result"
    }
   ],
   "source": [
    "multiplyList(probabilities_of_simple_heads)"
   ]
  },
  {
   "cell_type": "markdown",
   "metadata": {},
   "source": [
    "<img src='Scan.jpg'>"
   ]
  },
  {
   "cell_type": "markdown",
   "metadata": {},
   "source": [
    "### Задание 2"
   ]
  },
  {
   "cell_type": "markdown",
   "metadata": {},
   "source": [
    "Создайте свою дискретную случайную величину с не менее, чем 10 значениями. Просемплируйте 1000 случайных значений, постройте гистограмму плотности распределения по выборке, посчитайте среднее, дисперсию и медиану."
   ]
  },
  {
   "cell_type": "code",
   "execution_count": 47,
   "metadata": {},
   "outputs": [],
   "source": [
    "num_of_values = 10\n",
    "size_of_sample = 1000"
   ]
  },
  {
   "cell_type": "code",
   "execution_count": 48,
   "metadata": {},
   "outputs": [],
   "source": [
    "sample_average= []\n",
    "sample_values = []\n",
    "\n",
    "counter_samples = 0\n",
    "\n",
    "while counter_samples < size_of_sample:\n",
    "    counter_samples += 1\n",
    "    values = np.random.randint(1000,size=num_of_values)\n",
    "    sample_values.append(values)\n",
    "    sample_average.append(np.average(sample_values))"
   ]
  },
  {
   "cell_type": "code",
   "execution_count": 49,
   "metadata": {},
   "outputs": [
    {
     "data": {
      "image/png": "[encoded data removed]",
      "text/plain": [
       "<Figure size 432x288 with 1 Axes>"
      ]
     },
     "metadata": {
      "needs_background": "light"
     },
     "output_type": "display_data"
    }
   ],
   "source": [
    "n, bins, patches = plt.hist(sample_average, 75, facecolor='b')\n",
    "\n",
    "plt.xlabel('average')\n",
    "plt.ylabel('sample average value')\n",
    "plt.title('Распределение среднего из 1000 наборов по 10 значений в наборе')\n",
    "plt.grid(True)\n",
    "plt.show()"
   ]
  },
  {
   "cell_type": "code",
   "execution_count": 56,
   "metadata": {},
   "outputs": [
    {
     "data": {
      "image/png": "[encoded data removed]",
      "text/plain": [
       "<Figure size 432x288 with 1 Axes>"
      ]
     },
     "metadata": {
      "needs_background": "light"
     },
     "output_type": "display_data"
    }
   ],
   "source": [
    "# график просто распределений значений каждого набора данных получается очень странным. \n",
    "sns.distplot(sample_values, kde=False, rug=True);"
   ]
  },
  {
   "cell_type": "code",
   "execution_count": 58,
   "metadata": {},
   "outputs": [
    {
     "data": {
      "text/plain": [
       "498.8935"
      ]
     },
     "execution_count": 58,
     "metadata": {},
     "output_type": "execute_result"
    }
   ],
   "source": [
    "# среднее значение по значениям величины\n",
    "np.average(sample_values)"
   ]
  },
  {
   "cell_type": "code",
   "execution_count": 59,
   "metadata": {},
   "outputs": [
    {
     "data": {
      "text/plain": [
       "287.2025531880766"
      ]
     },
     "execution_count": 59,
     "metadata": {},
     "output_type": "execute_result"
    }
   ],
   "source": [
    "# дисперсия по значениям величины\n",
    "np.std(sample_values)"
   ]
  },
  {
   "cell_type": "code",
   "execution_count": 60,
   "metadata": {},
   "outputs": [
    {
     "data": {
      "text/plain": [
       "497.0"
      ]
     },
     "execution_count": 60,
     "metadata": {},
     "output_type": "execute_result"
    }
   ],
   "source": [
    "# медиана по значениям величины\n",
    "np.median(sample_values)"
   ]
  },
  {
   "cell_type": "markdown",
   "metadata": {},
   "source": [
    "### Задание 3"
   ]
  },
  {
   "cell_type": "markdown",
   "metadata": {},
   "source": [
    "Пусть брошены 3 уравновешенные монеты. Рассмотрим 3 события:\n",
    "\n",
    "$A_1$ - монеты 1 и 2 упали одной и той же стороной,\n",
    "\n",
    "$A_2$ - монеты 2 и 3 упали одной и той же стороной,\n",
    "\n",
    "$A_3$ - монеты 1 и 3 упали одной и той же стороной.\n",
    "\n",
    "Покажите, почему эти 3 события являются попарно независимыми, но <b>не</b> являются независимыми в совокупности."
   ]
  },
  {
   "cell_type": "code",
   "execution_count": 67,
   "metadata": {},
   "outputs": [
    {
     "name": "stdout",
     "output_type": "stream",
     "text": [
      "0.25 0.25 0.25\n",
      "Все события попарно независимы, так как: p(A∩B)=p(A)⋅p(B), p(A∩C)=p(A)⋅p(C), p(B∩C)=p(B)⋅p(C)\n"
     ]
    }
   ],
   "source": [
    "p_a1 = 1/2 * 1/2\n",
    "p_a2 = 1/2 * 1/2\n",
    "p_a3 = 1/2 * 1/2\n",
    "print(p_a1, p_a2, p_a3)\n",
    "print('Все события попарно независимы, так как: p(A∩B)=p(A)⋅p(B), p(A∩C)=p(A)⋅p(C), p(B∩C)=p(B)⋅p(C)')"
   ]
  },
  {
   "cell_type": "code",
   "execution_count": 69,
   "metadata": {},
   "outputs": [
    {
     "name": "stdout",
     "output_type": "stream",
     "text": [
      "0.125\n",
      "Cобытия не являются независимыми в совокупности, так как: p(A∩B∩C)≠p(A)⋅p(B)⋅p(C)\n"
     ]
    }
   ],
   "source": [
    "# Вероятность пересечения всех трёх равна: p(A∩B∩C)=1/4\n",
    "p = 1/2 * 1/2 * 1/2\n",
    "print(p)\n",
    "print('Cобытия не являются независимыми в совокупности, так как: p(A∩B∩C)≠p(A)⋅p(B)⋅p(C)')\n",
    "\n",
    "# Получили, что события являются попарно независимыми, но не являются независимыми в совокупности, значит, \n",
    "# эти два понятия — не одно и то же, что мы и хотели показать. "
   ]
  },
  {
   "cell_type": "markdown",
   "metadata": {},
   "source": [
    "### Задание 4 (формула полной вероятности)"
   ]
  },
  {
   "cell_type": "markdown",
   "metadata": {},
   "source": [
    "В магазин привезли устройства с 3-х разных предприятий. Соотношение устройств следующее: 20% - продукция первого предприятия, 30% - продукция второго предприятия, 50% - продукция третьего предприятия;  \n",
    "\n",
    "далее, 10% продукции первого предприятия высшего сорта, на втором предприятии - 5% и на третьем - 20% продукции высшего сорта.   \n",
    "\n",
    "Найти вероятность того, что случайно купленная новая продукция окажется высшего сорта."
   ]
  },
  {
   "cell_type": "code",
   "execution_count": 62,
   "metadata": {},
   "outputs": [],
   "source": [
    "P_C1 = 20/100\n",
    "P_C2 = 30/100\n",
    "P_C3 = 50/100\n",
    "\n",
    "P_C1PQ = 10/100\n",
    "P_C2PQ = 5/100\n",
    "P_C3PQ = 20/100"
   ]
  },
  {
   "cell_type": "code",
   "execution_count": 64,
   "metadata": {},
   "outputs": [
    {
     "data": {
      "text/plain": [
       "0.135"
      ]
     },
     "execution_count": 64,
     "metadata": {},
     "output_type": "execute_result"
    }
   ],
   "source": [
    "P = P_C1 * P_C1PQ + P_C2 * P_C2PQ + P_C3 * P_C3PQ\n",
    "P"
   ]
  }
 ],
 "metadata": {
  "kernelspec": {
   "display_name": "Python 3",
   "language": "python",
   "name": "python3"
  },
  "language_info": {
   "codemirror_mode": {
    "name": "ipython",
    "version": 3
   },
   "file_extension": ".py",
   "mimetype": "text/x-python",
   "name": "python",
   "nbconvert_exporter": "python",
   "pygments_lexer": "ipython3",
   "version": "3.8.3"
  }
 },
 "nbformat": 4,
 "nbformat_minor": 2
}
